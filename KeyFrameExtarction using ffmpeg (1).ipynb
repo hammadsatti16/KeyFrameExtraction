{
 "cells": [
  {
   "cell_type": "code",
   "execution_count": 3,
   "id": "135cff40",
   "metadata": {},
   "outputs": [],
   "source": [
    "import os\n",
    "import cv2\n",
    "import subprocess\n",
    "import time"
   ]
  },
  {
   "cell_type": "code",
   "execution_count": 4,
   "id": "3b301ec0",
   "metadata": {},
   "outputs": [
    {
     "name": "stdout",
     "output_type": "stream",
     "text": [
      "['C:/Users/Darvis AN3/Ffmpeg/ffmpeg ', '-i', 'G:/Video-key/asklepios_model_test_kit_3.mp4', '-f', 'image2', '-vf', \"select='eq(pict_type,PICT_TYPE_I)'\", '-vsync', 'vfr', 'G:/TEST/FFMPEG/Surgery/%03d.png']\n",
      "25.56436514854431\n"
     ]
    }
   ],
   "source": [
    "def main():\n",
    "    inFile = 'G:/Video-key/asklepios_model_test_kit_3.mp4'\n",
    "    oString = \"G:/TEST/FFMPEG/Surgery/\"\n",
    "    ffmpeg = \"C:/Users/Darvis AN3/Ffmpeg/ffmpeg \"\n",
    "    #home + '/bin/ffmpeg'\n",
    "    outFile = oString + '%03d.png'\n",
    "\n",
    "    cmd = [ffmpeg,'-i', inFile,'-f', 'image2','-vf', \n",
    "               \"select='eq(pict_type,PICT_TYPE_I)'\",'-vsync','vfr',outFile]\n",
    "    print (cmd)\n",
    "    subprocess.call(cmd)\n",
    "\n",
    "if __name__ == \"__main__\":\n",
    "    s = time.time()\n",
    "    main()\n",
    "    print(time.time()-s)"
   ]
  },
  {
   "cell_type": "code",
   "execution_count": null,
   "id": "e07b06e4",
   "metadata": {},
   "outputs": [],
   "source": []
  }
 ],
 "metadata": {
  "kernelspec": {
   "display_name": "Python 3 (ipykernel)",
   "language": "python",
   "name": "python3"
  },
  "language_info": {
   "codemirror_mode": {
    "name": "ipython",
    "version": 3
   },
   "file_extension": ".py",
   "mimetype": "text/x-python",
   "name": "python",
   "nbconvert_exporter": "python",
   "pygments_lexer": "ipython3",
   "version": "3.9.12"
  }
 },
 "nbformat": 4,
 "nbformat_minor": 5
}
