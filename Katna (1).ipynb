{
 "cells": [
  {
   "cell_type": "code",
   "execution_count": null,
   "id": "81cc32dd",
   "metadata": {},
   "outputs": [],
   "source": [
    "from Katna.video import Video\n",
    "from Katna.writer import KeyFrameDiskWriter\n",
    "import os\n",
    "import time\n",
    "# For windows, the below if condition is must.\n",
    "if __name__ == \"__main__\":\n",
    "\n",
    "  # initialize video module\n",
    "    vd = Video()\n",
    "\n",
    "  # number of images to be returned\n",
    "    no_of_frames_to_returned = 12\n",
    "\n",
    "  # initialize diskwriter to save data at desired location\n",
    "    diskwriter = KeyFrameDiskWriter(location=\"G:/selectedframes/\")\n",
    "\n",
    "  # Video file path\n",
    "    video_file_path = \"G:/Video-key/114-WeaponID-Rev-SW357-Moving-Session2-MarkActor.mp4\"\n",
    "\n",
    "    print(f\"Input video file path = {video_file_path}\")\n",
    "    s = time.time()\n",
    "  # extract keyframes and process data with diskwriter\n",
    "    vd.extract_video_keyframes(\n",
    "       no_of_frames=no_of_frames_to_returned, file_path=video_file_path,\n",
    "       writer=diskwriter\n",
    "  )\n",
    "    p =time.time()\n",
    "    print(\"Total Time: \",p-s)"
   ]
  }
 ],
 "metadata": {
  "kernelspec": {
   "display_name": "Python 3 (ipykernel)",
   "language": "python",
   "name": "python3"
  },
  "language_info": {
   "codemirror_mode": {
    "name": "ipython",
    "version": 3
   },
   "file_extension": ".py",
   "mimetype": "text/x-python",
   "name": "python",
   "nbconvert_exporter": "python",
   "pygments_lexer": "ipython3",
   "version": "3.9.12"
  }
 },
 "nbformat": 4,
 "nbformat_minor": 5
}
